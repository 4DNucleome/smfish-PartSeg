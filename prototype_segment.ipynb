{
 "cells": [
  {
   "cell_type": "code",
   "execution_count": 1,
   "metadata": {},
   "outputs": [],
   "source": [
    "%gui qt5\n",
    "%load_ext autoreload\n",
    "%autoreload 1"
   ]
  },
  {
   "cell_type": "code",
   "execution_count": 2,
   "metadata": {},
   "outputs": [],
   "source": [
    "import os \n",
    "\n",
    "from napari import Viewer\n",
    "import numpy as np\n",
    "import pandas as pd\n",
    "import skimage\n",
    "\n",
    "from PartSegImage import TiffImageReader, Image, ImageWriter\n",
    "from PartSeg.segmentation_mask.main_window import MainWindow\n",
    "from PartSegCore.segmentation.restartable_segmentation_algorithms import RestartableAlgorithm\n",
    "from PartSegCore import register\n",
    "\n",
    "from PartSeg_smfish import register"
   ]
  },
  {
   "cell_type": "code",
   "execution_count": 3,
   "metadata": {},
   "outputs": [],
   "source": [
    "%aimport PartSeg_smfish.cell_segmentation"
   ]
  },
  {
   "cell_type": "code",
   "execution_count": 4,
   "metadata": {},
   "outputs": [],
   "source": [
    "register()"
   ]
  },
  {
   "cell_type": "code",
   "execution_count": null,
   "metadata": {},
   "outputs": [],
   "source": []
  },
  {
   "cell_type": "code",
   "execution_count": 5,
   "metadata": {},
   "outputs": [],
   "source": [
    "def read_image(dir_path):\n",
    "    combined = os.path.join(dir_path, \"combined.tif\")\n",
    "    if os.path.exists(combined):\n",
    "        return TiffImageReader.read_image(combined)\n",
    "    cyto = TiffImageReader.read_image(os.path.join(dir_path, \"Cy5_deconv.tif\"))\n",
    "    nucleus = TiffImageReader.read_image(os.path.join(dir_path, \"hoechst.TIF\"))\n",
    "    spacing = (3 * 10**-7,) + nucleus.spacing[1:]\n",
    "    img =  Image(np.concatenate([cyto.get_data(), nucleus.get_data()], axis=-1), image_spacing=spacing, file_path=combined)\n",
    "    ImageWriter.save(img, combined)\n",
    "    return img"
   ]
  },
  {
   "cell_type": "code",
   "execution_count": 6,
   "metadata": {},
   "outputs": [],
   "source": [
    "img = read_image(\"/home/czaki/Dropbox/20.06.27_smFISH_deconv/stage_7_001/\")"
   ]
  },
  {
   "cell_type": "code",
   "execution_count": 7,
   "metadata": {},
   "outputs": [],
   "source": [
    "img2 = read_image(\"/home/czaki/Dropbox/20.06.27_smFISH_deconv/stage_7_002/\")"
   ]
  },
  {
   "cell_type": "code",
   "execution_count": 11,
   "metadata": {},
   "outputs": [
    {
     "name": "stdout",
     "output_type": "stream",
     "text": [
      "Threshold nucleus:  0.0001510636502242406\n",
      "Threshold cell:  0.0010844864808355423\n",
      "cc 21\n",
      "Threshold nucleus:  0.0001510636502242406\n",
      "Threshold cell:  0.0010483369314743575\n",
      "cc 21\n"
     ]
    }
   ],
   "source": [
    "window = MainWindow()\n",
    "window.settings.image = img\n",
    "window.show()\n"
   ]
  },
  {
   "cell_type": "code",
   "execution_count": null,
   "metadata": {},
   "outputs": [],
   "source": [
    "class SMAlgorithm(RestartableAlgorithm):\n",
    "    @classmethod\n",
    "    def get_fields():\n",
    "        return"
   ]
  },
  {
   "cell_type": "code",
   "execution_count": 9,
   "metadata": {},
   "outputs": [
    {
     "name": "stdout",
     "output_type": "stream",
     "text": [
      "Object `PartSeg_smfish.cell_segmentation.SMAlgorithm.calculation_run` not found.\n",
      "Threshold nucleus:  0.0001510636502242406\n",
      "Threshold cell:  0.0010844864808355423\n",
      "cc 21\n"
     ]
    }
   ],
   "source": [
    "PartSeg_smfish.cell_segmentation.SMAlgorithm.calculation_run?"
   ]
  },
  {
   "cell_type": "code",
   "execution_count": null,
   "metadata": {},
   "outputs": [],
   "source": []
  }
 ],
 "metadata": {
  "kernelspec": {
   "display_name": "Python 3",
   "language": "python",
   "name": "python3"
  },
  "language_info": {
   "codemirror_mode": {
    "name": "ipython",
    "version": 3
   },
   "file_extension": ".py",
   "mimetype": "text/x-python",
   "name": "python",
   "nbconvert_exporter": "python",
   "pygments_lexer": "ipython3",
   "version": "3.7.6"
  }
 },
 "nbformat": 4,
 "nbformat_minor": 4
}
